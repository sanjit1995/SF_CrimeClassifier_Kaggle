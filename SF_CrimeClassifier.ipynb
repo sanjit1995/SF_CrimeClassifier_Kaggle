{
  "nbformat": 4,
  "nbformat_minor": 0,
  "metadata": {
    "colab": {
      "name": "SF_CrimeClassifier.ipynb",
      "provenance": [],
      "mount_file_id": "1S9VBxmjmHxMAxB0rT2EymdQjovkYjtUh",
      "authorship_tag": "ABX9TyMIzxaxvZge32JykOag2Jd6",
      "include_colab_link": true
    },
    "kernelspec": {
      "name": "python3",
      "display_name": "Python 3"
    },
    "accelerator": "GPU"
  },
  "cells": [
    {
      "cell_type": "markdown",
      "metadata": {
        "id": "view-in-github",
        "colab_type": "text"
      },
      "source": [
        "<a href=\"https://colab.research.google.com/github/sanjit1995/SF_CrimeClassifier_Kaggle/blob/master/SF_CrimeClassifier.ipynb\" target=\"_parent\"><img src=\"https://colab.research.google.com/assets/colab-badge.svg\" alt=\"Open In Colab\"/></a>"
      ]
    },
    {
      "cell_type": "code",
      "metadata": {
        "id": "eYJu3b5CUVYl",
        "colab_type": "code",
        "colab": {}
      },
      "source": [
        "import pandas as pd\n",
        "import numpy as np\n",
        "import seaborn as sns\n",
        "import matplotlib.pyplot as plt\n",
        "%matplotlib inline\n",
        "import geopy"
      ],
      "execution_count": 0,
      "outputs": []
    },
    {
      "cell_type": "code",
      "metadata": {
        "id": "P_90a_E_ufdH",
        "colab_type": "code",
        "colab": {}
      },
      "source": [
        "train = pd.read_csv(\"/content/drive/My Drive/Colab Notebooks/data/SanFrancisco_Crime/train.csv\")\n",
        "test = pd.read_csv(\"/content/drive/My Drive/Colab Notebooks/data/SanFrancisco_Crime/test.csv\")"
      ],
      "execution_count": 0,
      "outputs": []
    },
    {
      "cell_type": "code",
      "metadata": {
        "id": "ATrFeuWA-Kc-",
        "colab_type": "code",
        "colab": {}
      },
      "source": [
        "pip install geocoder"
      ],
      "execution_count": 0,
      "outputs": []
    },
    {
      "cell_type": "code",
      "metadata": {
        "id": "p0ZkHwNlxvSK",
        "colab_type": "code",
        "colab": {}
      },
      "source": [
        "train['time'] = pd.to_datetime(train['Dates'], format='%Y-%m-%d %H:%M:%S').dt.hour\n",
        "train['time']"
      ],
      "execution_count": 0,
      "outputs": []
    },
    {
      "cell_type": "code",
      "metadata": {
        "id": "h9gRLuEj5uza",
        "colab_type": "code",
        "colab": {}
      },
      "source": [
        "train"
      ],
      "execution_count": 0,
      "outputs": []
    },
    {
      "cell_type": "code",
      "metadata": {
        "id": "o7VdRjTegFQ9",
        "colab_type": "code",
        "colab": {}
      },
      "source": [
        "address = test[(test.X>-122)][['PdDistrict','Address','X','Y']]\n",
        "address\n",
        "#address[address['Address'].str.contains('SPEAR ST')]\n",
        "#np.unique(address['Address'])"
      ],
      "execution_count": 0,
      "outputs": []
    },
    {
      "cell_type": "code",
      "metadata": {
        "id": "coylYntWAaJE",
        "colab_type": "code",
        "outputId": "a85e278e-85c8-4d3e-fbd5-c49baa2cc1ac",
        "colab": {
          "base_uri": "https://localhost:8080/",
          "height": 34
        }
      },
      "source": [
        "from geopy.geocoders import Nominatim\n",
        "geopy.geocoders.options.default_user_agent = 'SuvSanjitPatnaik'\n",
        "geolocator = Nominatim()\n",
        "#location = geolocator.reverse(\"90, -120.5\")\n",
        "location, (latitude, longitude) = geolocator.geocode(\"BRYANT ST, SAN FRANCISCO\")\n",
        "print(latitude, longitude)"
      ],
      "execution_count": 0,
      "outputs": [
        {
          "output_type": "stream",
          "text": [
            "37.77742 -122.4007994\n"
          ],
          "name": "stdout"
        }
      ]
    },
    {
      "cell_type": "code",
      "metadata": {
        "id": "WK5h-pGvIQdo",
        "colab_type": "code",
        "colab": {}
      },
      "source": [
        "# OTHERS\n",
        "test.Y[672453],test.X[672453] = 37.7918501, -122.3984764\n",
        "test.Y[676811],test.X[676811] = 37.7790353, -122.4018579\n",
        "test.Y[705820],test.X[705820] = 37.7872487, -122.4469132\n",
        "test.Y[707005],test.X[707005] = 37.7904144, -122.4068215\n",
        "test.Y[753803],test.X[753803] = 37.7790353, -122.4018579\n",
        "test.Y[784422],test.X[784422] = 37.77742, -122.4007994"
      ],
      "execution_count": 0,
      "outputs": []
    },
    {
      "cell_type": "code",
      "metadata": {
        "id": "6DIcLdo8H0uw",
        "colab_type": "code",
        "colab": {}
      },
      "source": [
        "# SPEAR ST\n",
        "test.Y[715075],test.X[715075] = 37.7894926, -122.3902301\n",
        "test.Y[715078],test.X[715078] = 37.7894926, -122.3902301\n",
        "test.Y[836254],test.X[836254] = 37.7894926, -122.3902301\n",
        "test.Y[836255],test.X[836255] = 37.7894926, -122.3902301"
      ],
      "execution_count": 0,
      "outputs": []
    },
    {
      "cell_type": "code",
      "metadata": {
        "id": "K26bC0uWGdDh",
        "colab_type": "code",
        "colab": {}
      },
      "source": [
        "# JAMES LICK FREEWAY\n",
        "test.Y[759307],test.X[759307] = 37.7221398, -122.4004819\n",
        "test.Y[772805],test.X[772805] = 37.7221398, -122.4004819\n",
        "test.Y[784326],test.X[784326] = 37.7221398, -122.4004819\n",
        "test.Y[784327],test.X[784327] = 37.7221398, -122.4004819\n",
        "test.Y[825266],test.X[825266] = 37.7221398, -122.4004819\n",
        "test.Y[829626],test.X[829626] = 37.7221398, -122.4004819"
      ],
      "execution_count": 0,
      "outputs": []
    },
    {
      "cell_type": "code",
      "metadata": {
        "id": "s1z8Ri8qFwbJ",
        "colab_type": "code",
        "colab": {}
      },
      "source": [
        "# BRANNAN ST\n",
        "test.Y[722243],test.X[722243] = 37.7693864, -122.4077747\n",
        "test.Y[798831],test.X[798831] = 37.7693864, -122.4077747\n",
        "test.Y[798832],test.X[798832] = 37.7693864, -122.4077747\n",
        "test.Y[807432],test.X[807432] = 37.7693864, -122.4077747\n",
        "test.Y[807434],test.X[807434] = 37.7693864, -122.4077747\n",
        "test.Y[814294],test.X[814294] = 37.7693864, -122.4077747\n",
        "test.Y[827026],test.X[827026] = 37.7693864, -122.4077747"
      ],
      "execution_count": 0,
      "outputs": []
    },
    {
      "cell_type": "code",
      "metadata": {
        "id": "E1kz2Do8Eygc",
        "colab_type": "code",
        "colab": {}
      },
      "source": [
        "# LARKIN ST\n",
        "test.Y[679267],test.X[679267] = 37.7776427, -122.4163983\n",
        "test.Y[683968],test.X[683968] = 37.7776427, -122.4163983\n",
        "test.Y[683970],test.X[683970] = 37.7776427, -122.4163983\n",
        "test.Y[687015],test.X[687015] = 37.7776427, -122.4163983\n",
        "test.Y[790261],test.X[790261] = 37.7776427, -122.4163983\n",
        "test.Y[790277],test.X[790277] = 37.7776427, -122.4163983\n",
        "test.Y[790278],test.X[790278] = 37.7776427, -122.4163983\n",
        "test.Y[796525],test.X[796525] = 37.7776427, -122.4163983\n",
        "test.Y[796526],test.X[796526] = 37.7776427, -122.4163983\n",
        "test.Y[822978],test.X[822978] = 37.7776427, -122.4163983\n",
        "test.Y[822979],test.X[822979] = 37.7776427, -122.4163983\n",
        "test.Y[822980],test.X[822980] = 37.7776427, -122.4163983\n",
        "test.Y[822981],test.X[822981] = 37.7776427, -122.4163983\n",
        "test.Y[824015],test.X[824015] = 37.7776427, -122.4163983\n",
        "test.Y[824016],test.X[824016] = 37.7776427, -122.4163983\n",
        "test.Y[824017],test.X[824017] = 37.7776427, -122.4163983\n",
        "test.Y[830647],test.X[830647] = 37.7776427, -122.4163983\n",
        "test.Y[830648],test.X[830648] = 37.7776427, -122.4163983"
      ],
      "execution_count": 0,
      "outputs": []
    },
    {
      "cell_type": "code",
      "metadata": {
        "id": "mLiM8t33EVuS",
        "colab_type": "code",
        "colab": {}
      },
      "source": [
        "# EDDY ST\n",
        "test.Y[664895],test.X[664895] = 37.783461, -122.4164007\n",
        "test.Y[675858],test.X[675858] = 37.783461, -122.4164007\n",
        "test.Y[676528],test.X[676528] = 37.783461, -122.4164007\n",
        "test.Y[687357],test.X[687357] = 37.783461, -122.4164007\n",
        "test.Y[709457],test.X[709457] = 37.783461, -122.4164007"
      ],
      "execution_count": 0,
      "outputs": []
    },
    {
      "cell_type": "code",
      "metadata": {
        "id": "J2v17YFTD1Ut",
        "colab_type": "code",
        "colab": {}
      },
      "source": [
        "# AVENUE OF THE PALMS\n",
        "test.Y[664826],test.X[664826] = 37.8200814, -122.3744344\n",
        "test.Y[667226],test.X[667226] = 37.8200814, -122.3744344\n",
        "test.Y[800668],test.X[800668] = 37.8200814, -122.3744344\n",
        "test.Y[800670],test.X[800670] = 37.8200814, -122.3744344"
      ],
      "execution_count": 0,
      "outputs": []
    },
    {
      "cell_type": "code",
      "metadata": {
        "id": "nKh9R_zzvqe3",
        "colab_type": "code",
        "colab": {}
      },
      "source": [
        "# MCALLISTER\n",
        "test.Y[664733],test.X[664733] = 37.7757454, -122.4531274\n",
        "test.Y[664734],test.X[664734] = 37.7757454, -122.4531274\n",
        "test.Y[671467],test.X[671467] = 37.7757454, -122.4531274\n",
        "test.Y[678944],test.X[678944] = 37.7757454, -122.4531274\n",
        "test.Y[678945],test.X[678945] = 37.7757454, -122.4531274\n",
        "test.Y[683795],test.X[683795] = 37.7757454, -122.4531274\n",
        "test.Y[686013],test.X[686013] = 37.7757454, -122.4531274\n",
        "test.Y[686014],test.X[686014] = 37.7757454, -122.4531274\n",
        "test.Y[686015],test.X[686015] = 37.7757454, -122.4531274\n",
        "test.Y[733368],test.X[733368] = 37.7757454, -122.4531274"
      ],
      "execution_count": 0,
      "outputs": []
    },
    {
      "cell_type": "code",
      "metadata": {
        "id": "nDZGAvMtDOy2",
        "colab_type": "code",
        "colab": {}
      },
      "source": [
        "total_temp_data"
      ],
      "execution_count": 0,
      "outputs": []
    },
    {
      "cell_type": "code",
      "metadata": {
        "id": "AMsBxy5EkSO2",
        "colab_type": "code",
        "colab": {}
      },
      "source": [
        "place = address['PdDistrict']\n",
        "street = address['Address']\n",
        "print(street.unique())"
      ],
      "execution_count": 0,
      "outputs": []
    },
    {
      "cell_type": "code",
      "metadata": {
        "id": "j3tNXPgvMIV3",
        "colab_type": "code",
        "colab": {}
      },
      "source": [
        "train = train.drop(['Id','Dates','Descript','Resolution','Address'],axis=1)"
      ],
      "execution_count": 0,
      "outputs": []
    },
    {
      "cell_type": "code",
      "metadata": {
        "id": "Ewk_OJf9l0-p",
        "colab_type": "code",
        "colab": {}
      },
      "source": [
        "count = 0\n",
        "for ind,row in train.iterrows():\n",
        "  if (row['X']>-122) & (row['Y']>37):\n",
        "    count += 1\n",
        "    print(\"Count=\" . count)\n",
        "    print(\"OLD:\")\n",
        "    print(train.X[ind] , train.Y[ind])\n",
        "    _, (train.Y[ind],train.X[ind]) = geolocator.geocode(row['PdDistrict'] + \",\" + \"SAN FRANCISCO\")\n",
        "    print(\"NEW:\")\n",
        "    print(train.X[ind] , train.Y[ind])"
      ],
      "execution_count": 0,
      "outputs": []
    },
    {
      "cell_type": "markdown",
      "metadata": {
        "id": "N-hlK9RTHISO",
        "colab_type": "text"
      },
      "source": [
        "For test"
      ]
    },
    {
      "cell_type": "code",
      "metadata": {
        "id": "wwuh8MVpHHii",
        "colab_type": "code",
        "colab": {}
      },
      "source": [
        "count = 0\n",
        "for ind,row in test.iterrows():\n",
        "  if (row['X']>-122) & (row['Y']>37):\n",
        "    count += 1\n",
        "    print(\"Count=\" . count)\n",
        "    print(\"OLD:\")\n",
        "    print(test.X[ind] , test.Y[ind])\n",
        "    _, (test.Y[ind],test.X[ind]) = geolocator.geocode(row['PdDistrict'] + \",\" + \"SAN FRANCISCO\")\n",
        "    print(\"NEW:\")\n",
        "    print(test.X[ind] , test.Y[ind])"
      ],
      "execution_count": 0,
      "outputs": []
    },
    {
      "cell_type": "code",
      "metadata": {
        "id": "lo_9UsARy1Xe",
        "colab_type": "code",
        "colab": {}
      },
      "source": [
        "train.to_csv('/content/drive/My Drive/Colab Notebooks/data/SanFrancisco_Crime/modified_train.csv')"
      ],
      "execution_count": 0,
      "outputs": []
    },
    {
      "cell_type": "code",
      "metadata": {
        "id": "IXpBf5GHzOyB",
        "colab_type": "code",
        "colab": {}
      },
      "source": [
        "#temp_train = train.copy()\n",
        "train = pd.read_csv('/content/drive/My Drive/Colab Notebooks/data/SanFrancisco_Crime/modified_train.csv')\n",
        "print(temp_train[temp_train['Y']==temp_train['Y'].max()]['Y'])"
      ],
      "execution_count": 0,
      "outputs": []
    },
    {
      "cell_type": "code",
      "metadata": {
        "id": "PoD6LX5jKE3a",
        "colab_type": "code",
        "colab": {}
      },
      "source": [
        "train['X'] = train['X'].astype(str)\n",
        "train['Y'] = train['Y'].astype(str)\n",
        "# coordinates = train[['X','Y']].apply(lambda x: ', '.join(x[x.notnull()]),axis=1)"
      ],
      "execution_count": 0,
      "outputs": []
    },
    {
      "cell_type": "code",
      "metadata": {
        "id": "-yxO9l7sMwT8",
        "colab_type": "code",
        "colab": {}
      },
      "source": [
        "from sklearn import preprocessing\n",
        "lat = train['Y'].values.astype(float)\n",
        "# print(train[train['Y']==train['Y'].max()])\n",
        "lat = lat.reshape(-1,1)\n",
        "\n",
        "# Create a minimum and maximum processor object\n",
        "min_max_scaler = preprocessing.MinMaxScaler()\n",
        "\n",
        "# Create an object to transform the data to fit minmax processor\n",
        "lat_scaled = min_max_scaler.fit_transform(lat)\n",
        "\n",
        "# Run the normalizer on the dataframe\n",
        "lat_normalized = pd.DataFrame(lat_scaled)"
      ],
      "execution_count": 0,
      "outputs": []
    },
    {
      "cell_type": "code",
      "metadata": {
        "id": "xCIy5-KW1bFE",
        "colab_type": "code",
        "outputId": "a7a31eff-f04b-44ac-d2ef-ba287f394f5f",
        "colab": {
          "base_uri": "https://localhost:8080/",
          "height": 34
        }
      },
      "source": [
        "lon = train['X'].values.astype(float)\n",
        "# print(train[train['Y']==train['Y'].max()])\n",
        "lon = lon.reshape(-1,1)\n",
        "\n",
        "# Create a minimum and maximum processor object\n",
        "min_max_scaler = preprocessing.MinMaxScaler()\n",
        "\n",
        "# Create an object to transform the data to fit minmax processor\n",
        "lon_scaled = min_max_scaler.fit_transform(lon)\n",
        "\n",
        "# Run the normalizer on the dataframe\n",
        "lon_normalized = pd.DataFrame(lon_scaled)\n",
        "lat_normalized.shape"
      ],
      "execution_count": 0,
      "outputs": [
        {
          "output_type": "execute_result",
          "data": {
            "text/plain": [
              "(878049, 1)"
            ]
          },
          "metadata": {
            "tags": []
          },
          "execution_count": 239
        }
      ]
    },
    {
      "cell_type": "code",
      "metadata": {
        "id": "Ww8oz-6C1q7J",
        "colab_type": "code",
        "colab": {}
      },
      "source": [
        "train['X'] = lon_normalized\n",
        "train['Y'] = lat_normalized"
      ],
      "execution_count": 0,
      "outputs": []
    },
    {
      "cell_type": "code",
      "metadata": {
        "id": "R5fX1tAA19_r",
        "colab_type": "code",
        "outputId": "b7521f36-4976-4b7b-e2bf-e75521abc400",
        "colab": {
          "base_uri": "https://localhost:8080/",
          "height": 238
        }
      },
      "source": [
        "train.info()"
      ],
      "execution_count": 0,
      "outputs": [
        {
          "output_type": "stream",
          "text": [
            "<class 'pandas.core.frame.DataFrame'>\n",
            "RangeIndex: 878049 entries, 0 to 878048\n",
            "Data columns (total 6 columns):\n",
            " #   Column      Non-Null Count   Dtype  \n",
            "---  ------      --------------   -----  \n",
            " 0   time        878049 non-null  int64  \n",
            " 1   DayOfWeek   878049 non-null  object \n",
            " 2   PdDistrict  878049 non-null  object \n",
            " 3   X           878049 non-null  float64\n",
            " 4   Y           878049 non-null  float64\n",
            " 5   Category    878049 non-null  object \n",
            "dtypes: float64(2), int64(1), object(3)\n",
            "memory usage: 40.2+ MB\n"
          ],
          "name": "stdout"
        }
      ]
    },
    {
      "cell_type": "code",
      "metadata": {
        "id": "n5gDVQ7J3DGt",
        "colab_type": "code",
        "colab": {}
      },
      "source": [
        "train = train[['time','DayOfWeek','PdDistrict','X','Y','Category']]"
      ],
      "execution_count": 0,
      "outputs": []
    },
    {
      "cell_type": "markdown",
      "metadata": {
        "id": "3lzqWo-hYUax",
        "colab_type": "text"
      },
      "source": [
        "Run this everytime a crash occurs"
      ]
    },
    {
      "cell_type": "code",
      "metadata": {
        "id": "pqKVlcs74fZL",
        "colab_type": "code",
        "colab": {}
      },
      "source": [
        "from sklearn.preprocessing import LabelEncoder\n",
        "cat = LabelEncoder().fit_transform(train['Category'])\n",
        "print(np.unique(cat))\n",
        "print(np.unique(train['Category']))"
      ],
      "execution_count": 0,
      "outputs": []
    },
    {
      "cell_type": "code",
      "metadata": {
        "id": "_11IgaPG6Hgc",
        "colab_type": "code",
        "colab": {}
      },
      "source": [
        "category_map = {e: train['Category'][i] for i, e in enumerate(cat)}"
      ],
      "execution_count": 0,
      "outputs": []
    },
    {
      "cell_type": "code",
      "metadata": {
        "id": "2FcTOhcM8QAy",
        "colab_type": "code",
        "colab": {}
      },
      "source": [
        "category_map[22]"
      ],
      "execution_count": 0,
      "outputs": []
    },
    {
      "cell_type": "code",
      "metadata": {
        "id": "dbdbQ9ug8kTc",
        "colab_type": "code",
        "colab": {}
      },
      "source": [
        "train['Category'] = cat"
      ],
      "execution_count": 0,
      "outputs": []
    },
    {
      "cell_type": "markdown",
      "metadata": {
        "id": "GXdG3N6mDbeY",
        "colab_type": "text"
      },
      "source": [
        "Start from here in case of unintententional data deletion"
      ]
    },
    {
      "cell_type": "code",
      "metadata": {
        "id": "HCKokUOj8uVl",
        "colab_type": "code",
        "colab": {}
      },
      "source": [
        "train.to_csv('/content/drive/My Drive/Colab Notebooks/data/SanFrancisco_Crime/mod_train_awaitingOneHot.csv')"
      ],
      "execution_count": 0,
      "outputs": []
    },
    {
      "cell_type": "code",
      "metadata": {
        "id": "koXjYWxrQswc",
        "colab_type": "code",
        "colab": {}
      },
      "source": [
        "train = pd.read_csv('/content/drive/My Drive/Colab Notebooks/data/SanFrancisco_Crime/mod_train_awaitingOneHot.csv')"
      ],
      "execution_count": 0,
      "outputs": []
    },
    {
      "cell_type": "code",
      "metadata": {
        "id": "BDKBYV42Qz57",
        "colab_type": "code",
        "colab": {}
      },
      "source": [
        "y_train"
      ],
      "execution_count": 0,
      "outputs": []
    },
    {
      "cell_type": "code",
      "metadata": {
        "id": "8FBjOM_h8YdY",
        "colab_type": "code",
        "colab": {}
      },
      "source": [
        "train_temp = train.copy()"
      ],
      "execution_count": 0,
      "outputs": []
    },
    {
      "cell_type": "code",
      "metadata": {
        "id": "YvUJR84C9AC4",
        "colab_type": "code",
        "colab": {}
      },
      "source": [
        "def onehot_encode_multicols(df, multicolumns):\n",
        "  temp_df = df\n",
        "  i = 0\n",
        "  for field in multicolumns:\n",
        "    df1 = pd.get_dummies(df[field], drop_first=True)\n",
        "    df.drop([field], axis=1, inplace=True)\n",
        "    if i == 0:\n",
        "      temp_df = df1.copy()\n",
        "    else:\n",
        "      temp_df = pd.concat([temp_df, df1], axis=1)\n",
        "    i += 1\n",
        "  temp_df = pd.concat([df, temp_df], axis=1)\n",
        "  return temp_df"
      ],
      "execution_count": 0,
      "outputs": []
    },
    {
      "cell_type": "code",
      "metadata": {
        "id": "jIhd0U079Q42",
        "colab_type": "code",
        "colab": {}
      },
      "source": [
        "categorical_cols = []\n",
        "for i in range(0, train.columns.size):\n",
        "  # print(i)\n",
        "  if train.dtypes[i] == 'object':\n",
        "    # print(total_data.columns[i])\n",
        "    categorical_cols.append(train.columns[i])"
      ],
      "execution_count": 0,
      "outputs": []
    },
    {
      "cell_type": "code",
      "metadata": {
        "id": "Xpj_ba9O9Wsg",
        "colab_type": "code",
        "outputId": "1d08b608-da17-41c4-f15e-ac4d8c67d3da",
        "colab": {
          "base_uri": "https://localhost:8080/",
          "height": 34
        }
      },
      "source": [
        "categorical_cols"
      ],
      "execution_count": 0,
      "outputs": [
        {
          "output_type": "execute_result",
          "data": {
            "text/plain": [
              "['DayOfWeek', 'PdDistrict']"
            ]
          },
          "metadata": {
            "tags": []
          },
          "execution_count": 8
        }
      ]
    },
    {
      "cell_type": "code",
      "metadata": {
        "id": "Jvft0f9N9WNW",
        "colab_type": "code",
        "colab": {}
      },
      "source": [
        "categorical_cols = np.array(categorical_cols)\n",
        "total_temp_data = onehot_encode_multicols(train, categorical_cols)"
      ],
      "execution_count": 0,
      "outputs": []
    },
    {
      "cell_type": "code",
      "metadata": {
        "id": "cTg8Wupg94iY",
        "colab_type": "code",
        "colab": {}
      },
      "source": [
        "train_data = total_temp_data\n",
        "train_data"
      ],
      "execution_count": 0,
      "outputs": []
    },
    {
      "cell_type": "code",
      "metadata": {
        "id": "sy75z3w89kNO",
        "colab_type": "code",
        "colab": {}
      },
      "source": [
        "x_train = train_data.drop(['Category'], axis=1)\n",
        "y_train = train_data['Category']"
      ],
      "execution_count": 0,
      "outputs": []
    },
    {
      "cell_type": "code",
      "metadata": {
        "id": "M4enT9_O-DOG",
        "colab_type": "code",
        "outputId": "7c7b7712-b141-4654-83e7-ed7018cf3d26",
        "colab": {
          "base_uri": "https://localhost:8080/",
          "height": 34
        }
      },
      "source": [
        "y_train.shape"
      ],
      "execution_count": 0,
      "outputs": [
        {
          "output_type": "execute_result",
          "data": {
            "text/plain": [
              "(878049,)"
            ]
          },
          "metadata": {
            "tags": []
          },
          "execution_count": 44
        }
      ]
    },
    {
      "cell_type": "code",
      "metadata": {
        "id": "xxkPOUrhLZ_p",
        "colab_type": "code",
        "outputId": "765baf98-e581-449e-cdd2-4cde5432dcd1",
        "colab": {
          "base_uri": "https://localhost:8080/",
          "height": 34
        }
      },
      "source": [
        "x_train.shape"
      ],
      "execution_count": 0,
      "outputs": [
        {
          "output_type": "execute_result",
          "data": {
            "text/plain": [
              "(878049, 18)"
            ]
          },
          "metadata": {
            "tags": []
          },
          "execution_count": 47
        }
      ]
    },
    {
      "cell_type": "code",
      "metadata": {
        "id": "WvF2tJgkRAEU",
        "colab_type": "code",
        "colab": {}
      },
      "source": [
        "x_train.to_csv('/content/drive/My Drive/Colab Notebooks/data/SanFrancisco_Crime/x_train.csv')\n",
        "y_train.to_csv('/content/drive/My Drive/Colab Notebooks/data/SanFrancisco_Crime/y_train.csv')"
      ],
      "execution_count": 0,
      "outputs": []
    },
    {
      "cell_type": "markdown",
      "metadata": {
        "id": "GngWSUFr_m95",
        "colab_type": "text"
      },
      "source": [
        "Test Data Handling"
      ]
    },
    {
      "cell_type": "code",
      "metadata": {
        "id": "7nAhG5ErJIKP",
        "colab_type": "code",
        "colab": {}
      },
      "source": [
        "test"
      ],
      "execution_count": 0,
      "outputs": []
    },
    {
      "cell_type": "code",
      "metadata": {
        "id": "uKhw9syd_qhy",
        "colab_type": "code",
        "colab": {}
      },
      "source": [
        "test['time'] = pd.to_datetime(test['Dates'], format='%Y-%m-%d %H:%M:%S').dt.hour\n",
        "test['time']"
      ],
      "execution_count": 0,
      "outputs": []
    },
    {
      "cell_type": "code",
      "metadata": {
        "id": "HsLq6GqQJTVs",
        "colab_type": "code",
        "colab": {}
      },
      "source": [
        "from sklearn import preprocessing\n",
        "lat = test['Y'].values.astype(float)\n",
        "# print(train[train['Y']==train['Y'].max()])\n",
        "lat = lat.reshape(-1,1)\n",
        "\n",
        "# Create a minimum and maximum processor object\n",
        "min_max_scaler = preprocessing.MinMaxScaler()\n",
        "\n",
        "# Create an object to transform the data to fit minmax processor\n",
        "lat_scaled = min_max_scaler.fit_transform(lat)\n",
        "\n",
        "# Run the normalizer on the dataframe\n",
        "lat_normalized = pd.DataFrame(lat_scaled)"
      ],
      "execution_count": 0,
      "outputs": []
    },
    {
      "cell_type": "code",
      "metadata": {
        "id": "rdJ87FUiJYjc",
        "colab_type": "code",
        "outputId": "1c8a975e-4ef1-49a3-cfc3-c8a7cb1f819e",
        "colab": {
          "base_uri": "https://localhost:8080/",
          "height": 34
        }
      },
      "source": [
        "lon = test['X'].values.astype(float)\n",
        "# print(train[train['Y']==train['Y'].max()])\n",
        "lon = lon.reshape(-1,1)\n",
        "\n",
        "# Create a minimum and maximum processor object\n",
        "min_max_scaler = preprocessing.MinMaxScaler()\n",
        "\n",
        "# Create an object to transform the data to fit minmax processor\n",
        "lon_scaled = min_max_scaler.fit_transform(lon)\n",
        "\n",
        "# Run the normalizer on the dataframe\n",
        "lon_normalized = pd.DataFrame(lon_scaled)\n",
        "lat_normalized.shape"
      ],
      "execution_count": 0,
      "outputs": [
        {
          "output_type": "execute_result",
          "data": {
            "text/plain": [
              "(884262, 1)"
            ]
          },
          "metadata": {
            "tags": []
          },
          "execution_count": 34
        }
      ]
    },
    {
      "cell_type": "code",
      "metadata": {
        "id": "-P5uk-9UJlwf",
        "colab_type": "code",
        "colab": {}
      },
      "source": [
        "temp_test = test.copy()"
      ],
      "execution_count": 0,
      "outputs": []
    },
    {
      "cell_type": "code",
      "metadata": {
        "id": "libwFmFWJjdw",
        "colab_type": "code",
        "colab": {}
      },
      "source": [
        "test['X'] = lon_normalized\n",
        "test['Y'] = lat_normalized"
      ],
      "execution_count": 0,
      "outputs": []
    },
    {
      "cell_type": "code",
      "metadata": {
        "id": "uZ3fo0rrJzvG",
        "colab_type": "code",
        "colab": {}
      },
      "source": [
        "test.drop(['Id','Dates','Address'], axis=1)\n",
        "test = test[['time','DayOfWeek','PdDistrict','X','Y']]"
      ],
      "execution_count": 0,
      "outputs": []
    },
    {
      "cell_type": "code",
      "metadata": {
        "id": "-As0VqQpK73F",
        "colab_type": "code",
        "colab": {}
      },
      "source": [
        "categorical_cols = []\n",
        "for i in range(0, test.columns.size):\n",
        "  # print(i)\n",
        "  if test.dtypes[i] == 'object':\n",
        "    # print(total_data.columns[i])\n",
        "    categorical_cols.append(test.columns[i])"
      ],
      "execution_count": 0,
      "outputs": []
    },
    {
      "cell_type": "code",
      "metadata": {
        "id": "BSYq8AgnLCM9",
        "colab_type": "code",
        "outputId": "64508606-c87b-44ee-aa81-f23cc3f12763",
        "colab": {
          "base_uri": "https://localhost:8080/",
          "height": 34
        }
      },
      "source": [
        "categorical_cols"
      ],
      "execution_count": 0,
      "outputs": [
        {
          "output_type": "execute_result",
          "data": {
            "text/plain": [
              "['DayOfWeek', 'PdDistrict']"
            ]
          },
          "metadata": {
            "tags": []
          },
          "execution_count": 39
        }
      ]
    },
    {
      "cell_type": "code",
      "metadata": {
        "id": "krnMmi5nLCnD",
        "colab_type": "code",
        "colab": {}
      },
      "source": [
        "categorical_cols = np.array(categorical_cols)\n",
        "test_temp_data = onehot_encode_multicols(test, categorical_cols)"
      ],
      "execution_count": 0,
      "outputs": []
    },
    {
      "cell_type": "code",
      "metadata": {
        "id": "XjsDo5SzLLqf",
        "colab_type": "code",
        "colab": {}
      },
      "source": [
        "test_data = test_temp_data\n",
        "test_data"
      ],
      "execution_count": 0,
      "outputs": []
    },
    {
      "cell_type": "code",
      "metadata": {
        "id": "tixps3JkADeC",
        "colab_type": "code",
        "outputId": "58c3670c-8a41-4d86-d3b3-464602561a51",
        "colab": {
          "base_uri": "https://localhost:8080/",
          "height": 34
        }
      },
      "source": [
        "test_data.shape"
      ],
      "execution_count": 0,
      "outputs": [
        {
          "output_type": "execute_result",
          "data": {
            "text/plain": [
              "(884262, 18)"
            ]
          },
          "metadata": {
            "tags": []
          },
          "execution_count": 394
        }
      ]
    },
    {
      "cell_type": "code",
      "metadata": {
        "id": "w3PTZEfCUBnO",
        "colab_type": "code",
        "colab": {}
      },
      "source": [
        "test_data.to_csv('/content/drive/My Drive/Colab Notebooks/data/SanFrancisco_Crime/test_data.csv')"
      ],
      "execution_count": 0,
      "outputs": []
    },
    {
      "cell_type": "markdown",
      "metadata": {
        "id": "yT0RTOGxNhuN",
        "colab_type": "text"
      },
      "source": [
        "Training Section"
      ]
    },
    {
      "cell_type": "code",
      "metadata": {
        "id": "sfIHauHkUzaj",
        "colab_type": "code",
        "colab": {}
      },
      "source": [
        "x_train = pd.read_csv('/content/drive/My Drive/Colab Notebooks/data/SanFrancisco_Crime/x_train.csv')\n",
        "y_train = pd.read_csv('/content/drive/My Drive/Colab Notebooks/data/SanFrancisco_Crime/y_train.csv')\n",
        "test_data = pd.read_csv('/content/drive/My Drive/Colab Notebooks/data/SanFrancisco_Crime/test_data.csv')"
      ],
      "execution_count": 0,
      "outputs": []
    },
    {
      "cell_type": "code",
      "metadata": {
        "id": "-3gw5_Ia-Yre",
        "colab_type": "code",
        "colab": {}
      },
      "source": [
        "y_train = pd.get_dummies(train['Category'], drop_first=False)"
      ],
      "execution_count": 0,
      "outputs": []
    },
    {
      "cell_type": "code",
      "metadata": {
        "id": "D32Nfaoi4YBw",
        "colab_type": "code",
        "colab": {}
      },
      "source": [
        "timeOfDay_dict = dict.fromkeys([22, 23, 0, 1, 2, 3, 4, 5], 'Night')\n",
        "timeOfDay_dict.update(dict.fromkeys([14, 15, 16, 17, 18, 19, 20, 21], 'Afternooon/Evening'))\n",
        "timeOfDay_dict.update(dict.fromkeys([6, 7, 8, 9, 10, 11, 12, 13], 'Morning'))"
      ],
      "execution_count": 0,
      "outputs": []
    },
    {
      "cell_type": "code",
      "metadata": {
        "id": "siKUpDce4mpo",
        "colab_type": "code",
        "outputId": "28933ce9-ec40-4d03-c679-6603dfb4bc14",
        "colab": {
          "base_uri": "https://localhost:8080/",
          "height": 34
        }
      },
      "source": [
        "timeOfDay_dict[2]"
      ],
      "execution_count": 0,
      "outputs": [
        {
          "output_type": "execute_result",
          "data": {
            "text/plain": [
              "'Night'"
            ]
          },
          "metadata": {
            "tags": []
          },
          "execution_count": 14
        }
      ]
    },
    {
      "cell_type": "code",
      "metadata": {
        "id": "7iRa2lwc3bcY",
        "colab_type": "code",
        "colab": {}
      },
      "source": [
        "#x_train['timeOfDay'] = timeOfDay_dict[x_train['time']]\n",
        "x_train = x_train.replace({\"time\": timeOfDay_dict})"
      ],
      "execution_count": 0,
      "outputs": []
    },
    {
      "cell_type": "code",
      "metadata": {
        "id": "4zlfmJHFKvs6",
        "colab_type": "code",
        "colab": {}
      },
      "source": [
        "timeOfDay = pd.get_dummies(x_train['time'], drop_first=False)"
      ],
      "execution_count": 0,
      "outputs": []
    },
    {
      "cell_type": "code",
      "metadata": {
        "id": "18Jvsz5s7j7f",
        "colab_type": "code",
        "colab": {}
      },
      "source": [
        "x_train = pd.concat([x_train,timeOfDay], axis=1)"
      ],
      "execution_count": 0,
      "outputs": []
    },
    {
      "cell_type": "code",
      "metadata": {
        "id": "mQXjDi3S7-cw",
        "colab_type": "code",
        "colab": {}
      },
      "source": [
        "x_train = x_train.drop(['time'], axis=1)"
      ],
      "execution_count": 0,
      "outputs": []
    },
    {
      "cell_type": "code",
      "metadata": {
        "id": "PEEXyJWF62gU",
        "colab_type": "code",
        "colab": {}
      },
      "source": [
        "x_train.head()"
      ],
      "execution_count": 0,
      "outputs": []
    },
    {
      "cell_type": "code",
      "metadata": {
        "id": "I6AYjrOW8U7k",
        "colab_type": "code",
        "colab": {}
      },
      "source": [
        "test_data = test_data.replace({\"time\": timeOfDay_dict})\n",
        "timeOfDay = pd.get_dummies(test_data['time'], drop_first=False)\n",
        "test_data = pd.concat([test_data,timeOfDay], axis=1)\n",
        "test_data = test_data.drop(['time'], axis=1)"
      ],
      "execution_count": 0,
      "outputs": []
    },
    {
      "cell_type": "code",
      "metadata": {
        "id": "39nw-RnG8mDl",
        "colab_type": "code",
        "colab": {}
      },
      "source": [
        "test_data"
      ],
      "execution_count": 0,
      "outputs": []
    },
    {
      "cell_type": "code",
      "metadata": {
        "id": "PQWfxzopWOVk",
        "colab_type": "code",
        "colab": {}
      },
      "source": [
        "x_train = x_train.drop(['Unnamed: 0'], axis=1)\n",
        "test_data = test_data.drop(['Unnamed: 0'], axis=1)"
      ],
      "execution_count": 0,
      "outputs": []
    },
    {
      "cell_type": "code",
      "metadata": {
        "id": "tpNeXN8QWFwe",
        "colab_type": "code",
        "outputId": "279d69a2-bb35-4daa-8ab5-41e475c97dc8",
        "colab": {
          "base_uri": "https://localhost:8080/",
          "height": 34
        }
      },
      "source": [
        "print(x_train.shape, y_train.shape, test_data.shape)"
      ],
      "execution_count": 0,
      "outputs": [
        {
          "output_type": "stream",
          "text": [
            "(878049, 20) (878049, 39) (884262, 20)\n"
          ],
          "name": "stdout"
        }
      ]
    },
    {
      "cell_type": "markdown",
      "metadata": {
        "id": "XKR2vFDnJ4xx",
        "colab_type": "text"
      },
      "source": [
        "Model Part"
      ]
    },
    {
      "cell_type": "code",
      "metadata": {
        "id": "f0C06hUlbSeh",
        "colab_type": "code",
        "colab": {}
      },
      "source": [
        "import xgboost\n",
        "classifier = xgboost.XGBClassifier(n_estimators=50, n_jobs=-1,verbose=2)\n",
        "# from sklearn.neighbors import KNeighborsClassifier\n",
        "# classifier = KNeighborsClassifier(n_neighbors=9)"
      ],
      "execution_count": 0,
      "outputs": []
    },
    {
      "cell_type": "code",
      "metadata": {
        "id": "lCH48lkvpWXT",
        "colab_type": "code",
        "colab": {}
      },
      "source": [
        "from sklearn.svm import SVC \n",
        "classifier = SVC()"
      ],
      "execution_count": 0,
      "outputs": []
    },
    {
      "cell_type": "code",
      "metadata": {
        "id": "WWk8iyXwNjrI",
        "colab_type": "code",
        "colab": {}
      },
      "source": [
        "from sklearn.ensemble import RandomForestClassifier\n",
        "classifier = RandomForestClassifier(verbose=2, n_estimators=60)"
      ],
      "execution_count": 0,
      "outputs": []
    },
    {
      "cell_type": "markdown",
      "metadata": {
        "id": "Hzsmx9OV1KQf",
        "colab_type": "text"
      },
      "source": [
        "after RAM Crash for x_train and test\n",
        "\n"
      ]
    },
    {
      "cell_type": "code",
      "metadata": {
        "id": "87jd6caxwz3r",
        "colab_type": "code",
        "colab": {}
      },
      "source": [
        "import pandas as pd\n",
        "temp_x_train = pd.read_csv('/content/drive/My Drive/Colab Notebooks/data/SanFrancisco_Crime/temp_x_train.csv')\n",
        "#y_train = pd.read_csv('/content/drive/My Drive/Colab Notebooks/data/SanFrancisco_Crime/y_train.csv')\n",
        "temp_test_data = pd.read_csv('/content/drive/My Drive/Colab Notebooks/data/SanFrancisco_Crime/new_test_data.csv')"
      ],
      "execution_count": 0,
      "outputs": []
    },
    {
      "cell_type": "code",
      "metadata": {
        "id": "BiP4AzTzxJx5",
        "colab_type": "code",
        "colab": {}
      },
      "source": [
        "temp_x_train = temp_x_train.drop(['Unnamed: 0'], axis=1)\n",
        "temp_test_data = temp_test_data.drop(['Unnamed: 0'], axis=1)"
      ],
      "execution_count": 0,
      "outputs": []
    },
    {
      "cell_type": "code",
      "metadata": {
        "id": "ScQMiHzJxS0-",
        "colab_type": "code",
        "colab": {}
      },
      "source": [
        "temp_test_data"
      ],
      "execution_count": 0,
      "outputs": []
    },
    {
      "cell_type": "code",
      "metadata": {
        "id": "dpaNgbquPHLc",
        "colab_type": "code",
        "outputId": "0cb459fc-52fb-457e-ad61-d13d353d2475",
        "colab": {
          "base_uri": "https://localhost:8080/",
          "height": 136
        }
      },
      "source": [
        "classifier.fit(temp_x_train,temp_y_train)"
      ],
      "execution_count": 0,
      "outputs": [
        {
          "output_type": "execute_result",
          "data": {
            "text/plain": [
              "XGBClassifier(base_score=0.5, booster='gbtree', colsample_bylevel=1,\n",
              "              colsample_bynode=1, colsample_bytree=1, gamma=0,\n",
              "              learning_rate=0.1, max_delta_step=0, max_depth=3,\n",
              "              min_child_weight=1, missing=None, n_estimators=50, n_jobs=-1,\n",
              "              nthread=None, objective='multi:softprob', random_state=0,\n",
              "              reg_alpha=0, reg_lambda=1, scale_pos_weight=1, seed=None,\n",
              "              silent=None, subsample=1, verbose=2, verbosity=1)"
            ]
          },
          "metadata": {
            "tags": []
          },
          "execution_count": 11
        }
      ]
    },
    {
      "cell_type": "code",
      "metadata": {
        "id": "StkD79XZmA81",
        "colab_type": "code",
        "colab": {}
      },
      "source": [
        "import pickle\n",
        "filename = \"/content/drive/My Drive/Colab Notebooks/data/SanFrancisco_Crime/models/RF_classifier1.pkl\"\n",
        "pickle.dump(classifier, open(filename, 'wb'))"
      ],
      "execution_count": 0,
      "outputs": []
    },
    {
      "cell_type": "code",
      "metadata": {
        "id": "wc_8ggCrPPOg",
        "colab_type": "code",
        "colab": {}
      },
      "source": [
        "y_pred = classifier.predict(temp_test_data)"
      ],
      "execution_count": 0,
      "outputs": []
    },
    {
      "cell_type": "code",
      "metadata": {
        "id": "oXKz7zFWPRGP",
        "colab_type": "code",
        "outputId": "b0611612-28a5-4234-cf2e-822ec1675547",
        "colab": {
          "base_uri": "https://localhost:8080/",
          "height": 51
        }
      },
      "source": [
        "y_pred[0:30]"
      ],
      "execution_count": 0,
      "outputs": [
        {
          "output_type": "execute_result",
          "data": {
            "text/plain": [
              "array([21, 21, 16, 21, 21, 21, 21, 21, 21, 16, 21, 21, 21, 16, 16, 21, 21,\n",
              "       21, 16, 16, 16, 23, 16, 21, 16, 16, 16, 16, 16, 16])"
            ]
          },
          "metadata": {
            "tags": []
          },
          "execution_count": 13
        }
      ]
    },
    {
      "cell_type": "code",
      "metadata": {
        "id": "M6pQI9lB4MMt",
        "colab_type": "code",
        "outputId": "80dfb563-d0c6-46a3-9ebf-93149200f323",
        "colab": {
          "base_uri": "https://localhost:8080/",
          "height": 34
        }
      },
      "source": [
        "import numpy as np\n",
        "np.unique(y_pred)"
      ],
      "execution_count": 0,
      "outputs": [
        {
          "output_type": "execute_result",
          "data": {
            "text/plain": [
              "array([ 1,  7, 16, 19, 20, 21, 23, 26])"
            ]
          },
          "metadata": {
            "tags": []
          },
          "execution_count": 14
        }
      ]
    },
    {
      "cell_type": "code",
      "metadata": {
        "id": "QSAdbzB83guy",
        "colab_type": "code",
        "colab": {}
      },
      "source": [
        "pred = pd.DataFrame(y_pred)\n",
        "sub_df = pd.read_csv(\"/content/drive/My Drive/Colab Notebooks/data/SanFrancisco_Crime/sampleSubmission.csv\")\n",
        "predFile = pd.concat([sub_df['Id'],pred], axis=1)\n",
        "predFile.columns = ['Id', 'Prediction']\n",
        "#predFile.to_csv('/content/drive/My Drive/Colab Notebooks/data/SanFrancisco_Crime/my_submission_RFC.csv', index=False)"
      ],
      "execution_count": 0,
      "outputs": []
    },
    {
      "cell_type": "markdown",
      "metadata": {
        "id": "ebkxePR86DTq",
        "colab_type": "text"
      },
      "source": [
        "Convert labelEncoded to One-Hot for Submission"
      ]
    },
    {
      "cell_type": "code",
      "metadata": {
        "id": "WyzCo8BR6HeJ",
        "colab_type": "code",
        "colab": {}
      },
      "source": [
        "predFile = predFile.replace({\"Prediction\": category_map})\n",
        "predFile = pd.concat([predFile,pd.get_dummies(predFile['Prediction'], drop_first=False)], axis=1)\n",
        "predFile['PORNOGRAPHY/OBSCENE MAT'] = '0'\n",
        "predFile = predFile.drop(['Prediction'], axis=1)\n",
        "predFile = predFile[['Id', 'ARSON', 'ASSAULT', 'BAD CHECKS', 'BRIBERY', 'BURGLARY',\n",
        "       'DISORDERLY CONDUCT', 'DRIVING UNDER THE INFLUENCE', 'DRUG/NARCOTIC',\n",
        "       'DRUNKENNESS', 'EMBEZZLEMENT', 'EXTORTION', 'FAMILY OFFENSES',\n",
        "       'FORGERY/COUNTERFEITING', 'FRAUD', 'GAMBLING', 'KIDNAPPING',\n",
        "       'LARCENY/THEFT', 'LIQUOR LAWS', 'LOITERING', 'MISSING PERSON',\n",
        "       'NON-CRIMINAL', 'OTHER OFFENSES', 'PORNOGRAPHY/OBSCENE MAT',\n",
        "       'PROSTITUTION', 'RECOVERED VEHICLE', 'ROBBERY', 'RUNAWAY', \n",
        "       'SECONDARY CODES', 'SEX OFFENSES FORCIBLE',\n",
        "       'SEX OFFENSES NON FORCIBLE', 'STOLEN PROPERTY', 'SUICIDE',\n",
        "       'SUSPICIOUS OCC', 'TREA', 'TRESPASS', 'VANDALISM', 'VEHICLE THEFT',\n",
        "       'WARRANTS', 'WEAPON LAWS']]"
      ],
      "execution_count": 0,
      "outputs": []
    },
    {
      "cell_type": "code",
      "metadata": {
        "id": "kIEbd74V6K_a",
        "colab_type": "code",
        "colab": {}
      },
      "source": [
        "predFile"
      ],
      "execution_count": 0,
      "outputs": []
    },
    {
      "cell_type": "code",
      "metadata": {
        "id": "JcM1tmEk6im6",
        "colab_type": "code",
        "colab": {}
      },
      "source": [
        "predFile.to_csv('my_submission_SF-Crime_RFC', index=False)"
      ],
      "execution_count": 0,
      "outputs": []
    },
    {
      "cell_type": "code",
      "metadata": {
        "id": "Df9ARBajP6dA",
        "colab_type": "code",
        "outputId": "5b450a04-317e-4037-eeec-a52965adeb48",
        "colab": {
          "base_uri": "https://localhost:8080/",
          "height": 34
        }
      },
      "source": [
        "category_map[19]"
      ],
      "execution_count": 0,
      "outputs": [
        {
          "output_type": "execute_result",
          "data": {
            "text/plain": [
              "'MISSING PERSON'"
            ]
          },
          "metadata": {
            "tags": []
          },
          "execution_count": 56
        }
      ]
    },
    {
      "cell_type": "code",
      "metadata": {
        "id": "KW0lAZMiorDk",
        "colab_type": "code",
        "colab": {}
      },
      "source": [
        "final_dict = pd.read_csv(\"/content/drive/My Drive/Colab Notebooks/data/SanFrancisco_Crime/sampleSubmission.csv\")"
      ],
      "execution_count": 0,
      "outputs": []
    },
    {
      "cell_type": "code",
      "metadata": {
        "id": "9LYwTdIErITk",
        "colab_type": "code",
        "colab": {}
      },
      "source": [
        "final_dict = final_dict.drop(final_dict.index[0:])\n",
        "final_dict = final_dict.drop(['Id'],axis=1)\n",
        "final_dict"
      ],
      "execution_count": 0,
      "outputs": []
    },
    {
      "cell_type": "code",
      "metadata": {
        "id": "OcZCGtOHqRZB",
        "colab_type": "code",
        "colab": {}
      },
      "source": [
        "final_dict.columns = category_map.values()"
      ],
      "execution_count": 0,
      "outputs": []
    },
    {
      "cell_type": "code",
      "metadata": {
        "id": "5CmwV_C-sP8f",
        "colab_type": "code",
        "outputId": "ba39edbc-5353-45fe-b017-11436df4937c",
        "colab": {
          "base_uri": "https://localhost:8080/",
          "height": 34
        }
      },
      "source": [
        "final_dict.shape"
      ],
      "execution_count": 0,
      "outputs": [
        {
          "output_type": "execute_result",
          "data": {
            "text/plain": [
              "(0, 39)"
            ]
          },
          "metadata": {
            "tags": []
          },
          "execution_count": 83
        }
      ]
    },
    {
      "cell_type": "code",
      "metadata": {
        "id": "aFVN-N31x5uq",
        "colab_type": "code",
        "colab": {}
      },
      "source": [
        "category_map.keys()"
      ],
      "execution_count": 0,
      "outputs": []
    },
    {
      "cell_type": "code",
      "metadata": {
        "id": "bAL0MSLXxARd",
        "colab_type": "code",
        "colab": {}
      },
      "source": [
        "temp_final_dict = pd.get_dummies(data=y_pred,drop_first=False)"
      ],
      "execution_count": 0,
      "outputs": []
    },
    {
      "cell_type": "code",
      "metadata": {
        "id": "_Zrv7f9kxcjQ",
        "colab_type": "code",
        "outputId": "a9dbe968-0ebe-474a-9516-5dd37d683c48",
        "colab": {
          "base_uri": "https://localhost:8080/",
          "height": 34
        }
      },
      "source": [
        "temp_final_dict.shape"
      ],
      "execution_count": 0,
      "outputs": [
        {
          "output_type": "execute_result",
          "data": {
            "text/plain": [
              "(884262, 12)"
            ]
          },
          "metadata": {
            "tags": []
          },
          "execution_count": 79
        }
      ]
    },
    {
      "cell_type": "code",
      "metadata": {
        "id": "wJ9iGiSYxTgh",
        "colab_type": "code",
        "colab": {}
      },
      "source": [
        "temp_final_dict.columns = category_map.values()"
      ],
      "execution_count": 0,
      "outputs": []
    },
    {
      "cell_type": "code",
      "metadata": {
        "id": "60bqyIGfpMpt",
        "colab_type": "code",
        "colab": {}
      },
      "source": [
        "index=0\n",
        "temp_final_dict = final_dict.copy()\n",
        "for i in y_pred:\n",
        "  temp_final_dict.at[index,category_map[i]] = str(1)\n",
        "  index += 1\n",
        "  if(index % 1000 == 0):\n",
        "    print(\"Completed:\")\n",
        "    print(index)\n",
        "\n",
        "print(index)\n",
        "temp_final_dict = temp_final_dict.fillna(str(0))\n",
        "print(temp_final_dict)"
      ],
      "execution_count": 0,
      "outputs": []
    },
    {
      "cell_type": "code",
      "metadata": {
        "id": "L1ijk14qPRns",
        "colab_type": "code",
        "colab": {}
      },
      "source": [
        "pred = pd.DataFrame(y_pred)\n",
        "sub_df = pd.read_csv(\"/content/drive/My Drive/Colab Notebooks/data/SanFrancisco_Crime/sampleSubmission.csv\")\n",
        "datasets = pd.concat([sub_df['Id'],pred], axis=1)\n",
        "datasets.columns = ['Id', 'ARSON', 'ASSAULT', 'BAD CHECKS', 'BRIBERY', 'BURGLARY',\n",
        "       'DISORDERLY CONDUCT', 'DRIVING UNDER THE INFLUENCE', 'DRUG/NARCOTIC',\n",
        "       'DRUNKENNESS', 'EMBEZZLEMENT', 'EXTORTION', 'FAMILY OFFENSES',\n",
        "       'FORGERY/COUNTERFEITING', 'FRAUD', 'GAMBLING', 'KIDNAPPING',\n",
        "       'LARCENY/THEFT', 'LIQUOR LAWS', 'LOITERING', 'MISSING PERSON',\n",
        "       'NON-CRIMINAL', 'OTHER OFFENSES', 'PORNOGRAPHY/OBSCENE MAT',\n",
        "       'PROSTITUTION', 'RECOVERED VEHICLE', 'ROBBERY', 'RUNAWAY',\n",
        "       'SECONDARY CODES', 'SEX OFFENSES FORCIBLE', 'SEX OFFENSES NON FORCIBLE',\n",
        "       'STOLEN PROPERTY', 'SUICIDE', 'SUSPICIOUS OCC', 'TREA', 'TRESPASS',\n",
        "       'VANDALISM', 'VEHICLE THEFT', 'WARRANTS', 'WEAPON LAWS']\n",
        "datasets.to_csv('my_submission.csv', index=False)"
      ],
      "execution_count": 0,
      "outputs": []
    },
    {
      "cell_type": "code",
      "metadata": {
        "id": "KsHUpYgb1WXi",
        "colab_type": "code",
        "colab": {}
      },
      "source": [
        "lat_normalized.iloc[126536]\n",
        "# train.iloc[89376]"
      ],
      "execution_count": 0,
      "outputs": []
    },
    {
      "cell_type": "code",
      "metadata": {
        "id": "y-U6Y0oKQQOE",
        "colab_type": "code",
        "colab": {}
      },
      "source": [
        "sub_df = pd.read_csv(\"/content/drive/My Drive/Colab Notebooks/data/SanFrancisco_Crime/sampleSubmission.csv\")\n",
        "sub_df.head()"
      ],
      "execution_count": 0,
      "outputs": []
    },
    {
      "cell_type": "code",
      "metadata": {
        "id": "XBvNAycMFDWE",
        "colab_type": "code",
        "outputId": "955e08ec-8648-4c4a-f860-7be58278f255",
        "colab": {
          "base_uri": "https://localhost:8080/",
          "height": 204
        }
      },
      "source": [
        "y_train.columns"
      ],
      "execution_count": 0,
      "outputs": [
        {
          "output_type": "execute_result",
          "data": {
            "text/plain": [
              "Index(['ARSON', 'ASSAULT', 'BAD CHECKS', 'BRIBERY', 'BURGLARY',\n",
              "       'DISORDERLY CONDUCT', 'DRIVING UNDER THE INFLUENCE', 'DRUG/NARCOTIC',\n",
              "       'DRUNKENNESS', 'EMBEZZLEMENT', 'EXTORTION', 'FAMILY OFFENSES',\n",
              "       'FORGERY/COUNTERFEITING', 'FRAUD', 'GAMBLING', 'KIDNAPPING',\n",
              "       'LARCENY/THEFT', 'LIQUOR LAWS', 'LOITERING', 'MISSING PERSON',\n",
              "       'NON-CRIMINAL', 'OTHER OFFENSES', 'PORNOGRAPHY/OBSCENE MAT',\n",
              "       'PROSTITUTION', 'RECOVERED VEHICLE', 'ROBBERY', 'RUNAWAY',\n",
              "       'SECONDARY CODES', 'SEX OFFENSES FORCIBLE', 'SEX OFFENSES NON FORCIBLE',\n",
              "       'STOLEN PROPERTY', 'SUICIDE', 'SUSPICIOUS OCC', 'TREA', 'TRESPASS',\n",
              "       'VANDALISM', 'VEHICLE THEFT', 'WARRANTS', 'WEAPON LAWS'],\n",
              "      dtype='object')"
            ]
          },
          "metadata": {
            "tags": []
          },
          "execution_count": 106
        }
      ]
    },
    {
      "cell_type": "markdown",
      "metadata": {
        "id": "8gWif7PtI5q6",
        "colab_type": "text"
      },
      "source": [
        "Using Neural Networks"
      ]
    },
    {
      "cell_type": "code",
      "metadata": {
        "id": "roNhKb3MKfbL",
        "colab_type": "code",
        "colab": {}
      },
      "source": [
        "pip install keras-tuner"
      ],
      "execution_count": 0,
      "outputs": []
    },
    {
      "cell_type": "code",
      "metadata": {
        "id": "B_0VyOs5Kclk",
        "colab_type": "code",
        "colab": {}
      },
      "source": [
        "import kerastuner\n",
        "from kerastuner.tuners import RandomSearch\n",
        "from tensorflow import keras\n",
        "from tensorflow.keras.layers import Dense, Flatten, Conv2D, Dropout\n",
        "from tensorflow.keras.models import Sequential\n",
        "from tensorflow.keras.optimizers import *"
      ],
      "execution_count": 0,
      "outputs": []
    },
    {
      "cell_type": "code",
      "metadata": {
        "id": "rtzWa49zI8ld",
        "colab_type": "code",
        "colab": {}
      },
      "source": [
        "def build_model(hp):\n",
        "    model = keras.Sequential()\n",
        "    model.add(keras.layers.Dense(\n",
        "        filters=hp.Int('dense_1_units', min_value=64, max_value=256, step=16),\n",
        "        kernel_size=hp.Choice('conv_1_kernel', values=[3, 5]),\n",
        "        activation='relu',\n",
        "        input_shape=(28, 28, 1)\n",
        "    ))\n",
        "    model.add(keras.layers.Conv2D(\n",
        "        filters=hp.Int('dense_2_units', min_value=32, max_value=64, step=16),\n",
        "        kernel_size=hp.Choice('conv_2_kernel', values=[3, 5]),\n",
        "        activation='relu'\n",
        "    ))\n",
        "    model.add(keras.layers.Dense(\n",
        "        units=hp.Int('dense_3_units', min_value=32, max_value=128, step=16),\n",
        "        activation='relu'\n",
        "    ))\n",
        "    model.add(keras.layers.Dense(39, activation='softmax'))\n",
        "\n",
        "    model.compile(\n",
        "        optimizer=keras.optimizers.Adam(hp.Choice('learning_rate', values=[1e-2, 1e-3, 1e-4])),\n",
        "        loss='sparse_categorical_crossentropy',\n",
        "        metrics=['accuracy'])\n",
        "    return model"
      ],
      "execution_count": 0,
      "outputs": []
    },
    {
      "cell_type": "code",
      "metadata": {
        "id": "sAsNOA_wKIHJ",
        "colab_type": "code",
        "colab": {}
      },
      "source": [
        "tuner = RandomSearch(\n",
        "    build_model,\n",
        "    objective='val_accuracy',\n",
        "    max_trials=5,\n",
        "    directory='output',\n",
        "    project_name=\"SF_Crime\"\n",
        ")\n",
        "\n",
        "tuner.search(x_train, y_train, epochs=3, validation_split=0.1)\n",
        "\n",
        "model = tuner.get_best_models(num_models=1)[0]\n",
        "\n",
        "model.summary()"
      ],
      "execution_count": 0,
      "outputs": []
    },
    {
      "cell_type": "code",
      "metadata": {
        "id": "7w_hiWqIM04N",
        "colab_type": "code",
        "colab": {}
      },
      "source": [
        "print(x_train.shape, y_train.shape, test_data.shape)"
      ],
      "execution_count": 0,
      "outputs": []
    },
    {
      "cell_type": "markdown",
      "metadata": {
        "id": "1_9nLTx_gapD",
        "colab_type": "text"
      },
      "source": [
        "New Checkpoint for y-train to be label encoded for putting into ANN"
      ]
    },
    {
      "cell_type": "code",
      "metadata": {
        "id": "mOFptFHSUJod",
        "colab_type": "code",
        "colab": {}
      },
      "source": [
        "from sklearn.preprocessing import LabelEncoder\n",
        "temp_y_train = LabelEncoder().fit_transform(train['Category'])"
      ],
      "execution_count": 0,
      "outputs": []
    },
    {
      "cell_type": "code",
      "metadata": {
        "id": "UZkeIHKocxIo",
        "colab_type": "code",
        "colab": {}
      },
      "source": [
        "temp_y_train"
      ],
      "execution_count": 0,
      "outputs": []
    },
    {
      "cell_type": "code",
      "metadata": {
        "id": "nOAWsU1Ud1O8",
        "colab_type": "code",
        "colab": {}
      },
      "source": [
        "days_category = dict.fromkeys(['Monday', 'Tuesday', 'Wednesday', 'Thursday', 'Friday'], 'Weekday')\n",
        "days_category.update(dict.fromkeys(['Saturday', 'Sunday'], 'Weekend'))"
      ],
      "execution_count": 0,
      "outputs": []
    },
    {
      "cell_type": "code",
      "metadata": {
        "id": "HduIBRj6etYe",
        "colab_type": "code",
        "outputId": "004a4943-d9a8-41fe-89b6-260ed5cc3184",
        "colab": {
          "base_uri": "https://localhost:8080/",
          "height": 221
        }
      },
      "source": [
        "temp_x_day = train.replace({\"DayOfWeek\": days_category})['DayOfWeek']\n",
        "temp_x_day"
      ],
      "execution_count": 0,
      "outputs": [
        {
          "output_type": "execute_result",
          "data": {
            "text/plain": [
              "0         Weekday\n",
              "1         Weekday\n",
              "2         Weekday\n",
              "3         Weekday\n",
              "4         Weekday\n",
              "           ...   \n",
              "878044    Weekday\n",
              "878045    Weekday\n",
              "878046    Weekday\n",
              "878047    Weekday\n",
              "878048    Weekday\n",
              "Name: DayOfWeek, Length: 878049, dtype: object"
            ]
          },
          "metadata": {
            "tags": []
          },
          "execution_count": 28
        }
      ]
    },
    {
      "cell_type": "code",
      "metadata": {
        "id": "d9dhiCYGfB4n",
        "colab_type": "code",
        "colab": {}
      },
      "source": [
        "temp_x_train = x_train.copy()\n",
        "temp_x_train['day'] = temp_x_day"
      ],
      "execution_count": 0,
      "outputs": []
    },
    {
      "cell_type": "code",
      "metadata": {
        "id": "cDeWFZZqfPCO",
        "colab_type": "code",
        "colab": {}
      },
      "source": [
        "temp_x_train = temp_x_train.drop(['Monday', 'Tuesday', 'Wednesday', 'Thursday', 'Saturday', 'Sunday'], axis=1)"
      ],
      "execution_count": 0,
      "outputs": []
    },
    {
      "cell_type": "code",
      "metadata": {
        "id": "A-dLfds0kBIP",
        "colab_type": "code",
        "colab": {}
      },
      "source": [
        "temp_x_day = pd.get_dummies(data=temp_x_train['day'], drop_first=True)\n",
        "temp_x_train = pd.concat([temp_x_train, temp_x_day], axis=1)"
      ],
      "execution_count": 0,
      "outputs": []
    },
    {
      "cell_type": "code",
      "metadata": {
        "id": "sSxZh5eUfjtn",
        "colab_type": "code",
        "colab": {}
      },
      "source": [
        "temp_x_train = temp_x_train.drop(['day'], axis=1)\n",
        "temp_x_train"
      ],
      "execution_count": 0,
      "outputs": []
    },
    {
      "cell_type": "code",
      "metadata": {
        "id": "7r_fBwtiyAGK",
        "colab_type": "code",
        "colab": {}
      },
      "source": [
        "test_data = pd.read_csv('/content/drive/My Drive/Colab Notebooks/data/SanFrancisco_Crime/test_data.csv')"
      ],
      "execution_count": 0,
      "outputs": []
    },
    {
      "cell_type": "code",
      "metadata": {
        "id": "XuDST_mslIAN",
        "colab_type": "code",
        "colab": {}
      },
      "source": [
        "temp_test_data = test_data.copy()\n",
        "temp_test_data['day'] = temp_x_day\n",
        "temp_test_data = temp_test_data.drop(['Monday', 'Tuesday', 'Wednesday', 'Thursday', 'Saturday', 'Sunday'], axis=1)\n",
        "temp_x_day = pd.get_dummies(data=temp_test_data['day'], drop_first=True)\n",
        "temp_test_data = pd.concat([temp_test_data, temp_x_day], axis=1)\n",
        "temp_test_data = temp_test_data.drop(['day'], axis=1)\n",
        "temp_test_data"
      ],
      "execution_count": 0,
      "outputs": []
    },
    {
      "cell_type": "code",
      "metadata": {
        "id": "dX3SV5MBl3ZI",
        "colab_type": "code",
        "outputId": "c2107449-f80b-4f30-ad10-45c064d75ad6",
        "colab": {
          "base_uri": "https://localhost:8080/",
          "height": 34
        }
      },
      "source": [
        "print(temp_x_train.shape, temp_y_train.shape, temp_test_data.shape)"
      ],
      "execution_count": 0,
      "outputs": [
        {
          "output_type": "stream",
          "text": [
            "(878049, 15) (878049,) (884262, 15)\n"
          ],
          "name": "stdout"
        }
      ]
    },
    {
      "cell_type": "code",
      "metadata": {
        "id": "QJbTZT_6mKh9",
        "colab_type": "code",
        "colab": {}
      },
      "source": [
        "temp_test_data"
      ],
      "execution_count": 0,
      "outputs": []
    },
    {
      "cell_type": "code",
      "metadata": {
        "id": "gInCkf41ubSd",
        "colab_type": "code",
        "colab": {}
      },
      "source": [
        "temp_x1 = temp_x_train.copy()\n",
        "temp_x1 = temp_x1.drop(['X','Y'],axis=1)\n",
        "temp_test1 = temp_test_data.copy()\n",
        "temp_test1 = temp_test1.drop(['X','Y'],axis=1)"
      ],
      "execution_count": 0,
      "outputs": []
    },
    {
      "cell_type": "code",
      "metadata": {
        "id": "-5kMcxr6u5X-",
        "colab_type": "code",
        "colab": {}
      },
      "source": [
        "temp_x1"
      ],
      "execution_count": 0,
      "outputs": []
    },
    {
      "cell_type": "markdown",
      "metadata": {
        "id": "PZ31f3-IgGA3",
        "colab_type": "text"
      },
      "source": [
        "New Checkpoint"
      ]
    },
    {
      "cell_type": "code",
      "metadata": {
        "id": "tgzZ-Fw9y_10",
        "colab_type": "code",
        "colab": {}
      },
      "source": [
        "temp_x_train = temp_x_train.drop(['Unnamed: 0'], axis=1)\n",
        "temp_test_data = temp_test_data.drop(['Unnamed: 0'], axis=1)"
      ],
      "execution_count": 0,
      "outputs": []
    },
    {
      "cell_type": "code",
      "metadata": {
        "id": "QKz2uyTLfyGI",
        "colab_type": "code",
        "colab": {}
      },
      "source": [
        "temp_x_train.to_csv('/content/drive/My Drive/Colab Notebooks/data/SanFrancisco_Crime/temp_x_train.csv')\n",
        "#temp_y_train = temp_y_train.to_csv('/content/drive/My Drive/Colab Notebooks/data/SanFrancisco_Crime/temp_y_train.csv')\n",
        "temp_test_data.to_csv('/content/drive/My Drive/Colab Notebooks/data/SanFrancisco_Crime/new_test_data.csv')"
      ],
      "execution_count": 0,
      "outputs": []
    },
    {
      "cell_type": "code",
      "metadata": {
        "id": "H2lZb-6nL8Wd",
        "colab_type": "code",
        "outputId": "583c12a9-7580-4aa1-92aa-7369de19f8bd",
        "colab": {
          "base_uri": "https://localhost:8080/",
          "height": 493
        }
      },
      "source": [
        "model = Sequential([\n",
        "    Dense(units=1024, input_shape=(13,), activation='relu'),\n",
        "    Dense(units=1024, activation='relu', kernel_initializer='glorot_uniform'),\n",
        "    Dense(units=1024, activation='relu', kernel_initializer='glorot_uniform'),\n",
        "    Dense(units=512, activation='relu'),\n",
        "    Dense(units=256, activation='relu'),\n",
        "    Dense(units=128, activation='relu'),\n",
        "    Dense(units=39, activation='softmax')\n",
        "])\n",
        "\n",
        "model.compile(optimizer=Adamax(lr=0.01), loss='sparse_categorical_crossentropy',metrics=['accuracy'])\n",
        "\n",
        "model.fit(temp_x1, temp_y_train, validation_split=0.1, batch_size=1000, epochs=200, shuffle=True, verbose=2)"
      ],
      "execution_count": 0,
      "outputs": [
        {
          "output_type": "stream",
          "text": [
            "Epoch 1/200\n",
            "791/791 - 10s - loss: 3015.1423 - accuracy: 0.2006 - val_loss: 2.7136 - val_accuracy: 0.1727\n",
            "Epoch 2/200\n",
            "791/791 - 10s - loss: 2.6797 - accuracy: 0.2021 - val_loss: 2.7178 - val_accuracy: 0.1727\n",
            "Epoch 3/200\n",
            "791/791 - 10s - loss: 2.6798 - accuracy: 0.2021 - val_loss: 2.7201 - val_accuracy: 0.1727\n",
            "Epoch 4/200\n",
            "791/791 - 10s - loss: 2.6798 - accuracy: 0.2021 - val_loss: 2.7215 - val_accuracy: 0.1727\n",
            "Epoch 5/200\n"
          ],
          "name": "stdout"
        },
        {
          "output_type": "error",
          "ename": "KeyboardInterrupt",
          "evalue": "ignored",
          "traceback": [
            "\u001b[0;31m---------------------------------------------------------------------------\u001b[0m",
            "\u001b[0;31mKeyboardInterrupt\u001b[0m                         Traceback (most recent call last)",
            "\u001b[0;32m<ipython-input-131-bc00c5828739>\u001b[0m in \u001b[0;36m<module>\u001b[0;34m()\u001b[0m\n\u001b[1;32m     11\u001b[0m \u001b[0mmodel\u001b[0m\u001b[0;34m.\u001b[0m\u001b[0mcompile\u001b[0m\u001b[0;34m(\u001b[0m\u001b[0moptimizer\u001b[0m\u001b[0;34m=\u001b[0m\u001b[0mAdam\u001b[0m\u001b[0;34m(\u001b[0m\u001b[0mlr\u001b[0m\u001b[0;34m=\u001b[0m\u001b[0;36m0.1\u001b[0m\u001b[0;34m)\u001b[0m\u001b[0;34m,\u001b[0m \u001b[0mloss\u001b[0m\u001b[0;34m=\u001b[0m\u001b[0;34m'sparse_categorical_crossentropy'\u001b[0m\u001b[0;34m,\u001b[0m\u001b[0mmetrics\u001b[0m\u001b[0;34m=\u001b[0m\u001b[0;34m[\u001b[0m\u001b[0;34m'accuracy'\u001b[0m\u001b[0;34m]\u001b[0m\u001b[0;34m)\u001b[0m\u001b[0;34m\u001b[0m\u001b[0;34m\u001b[0m\u001b[0m\n\u001b[1;32m     12\u001b[0m \u001b[0;34m\u001b[0m\u001b[0m\n\u001b[0;32m---> 13\u001b[0;31m \u001b[0mmodel\u001b[0m\u001b[0;34m.\u001b[0m\u001b[0mfit\u001b[0m\u001b[0;34m(\u001b[0m\u001b[0mtemp_x1\u001b[0m\u001b[0;34m,\u001b[0m \u001b[0mtemp_y_train\u001b[0m\u001b[0;34m,\u001b[0m \u001b[0mvalidation_split\u001b[0m\u001b[0;34m=\u001b[0m\u001b[0;36m0.1\u001b[0m\u001b[0;34m,\u001b[0m \u001b[0mbatch_size\u001b[0m\u001b[0;34m=\u001b[0m\u001b[0;36m1000\u001b[0m\u001b[0;34m,\u001b[0m \u001b[0mepochs\u001b[0m\u001b[0;34m=\u001b[0m\u001b[0;36m200\u001b[0m\u001b[0;34m,\u001b[0m \u001b[0mshuffle\u001b[0m\u001b[0;34m=\u001b[0m\u001b[0;32mTrue\u001b[0m\u001b[0;34m,\u001b[0m \u001b[0mverbose\u001b[0m\u001b[0;34m=\u001b[0m\u001b[0;36m2\u001b[0m\u001b[0;34m)\u001b[0m\u001b[0;34m\u001b[0m\u001b[0;34m\u001b[0m\u001b[0m\n\u001b[0m",
            "\u001b[0;32m/usr/local/lib/python3.6/dist-packages/tensorflow/python/keras/engine/training.py\u001b[0m in \u001b[0;36m_method_wrapper\u001b[0;34m(self, *args, **kwargs)\u001b[0m\n\u001b[1;32m     64\u001b[0m   \u001b[0;32mdef\u001b[0m \u001b[0m_method_wrapper\u001b[0m\u001b[0;34m(\u001b[0m\u001b[0mself\u001b[0m\u001b[0;34m,\u001b[0m \u001b[0;34m*\u001b[0m\u001b[0margs\u001b[0m\u001b[0;34m,\u001b[0m \u001b[0;34m**\u001b[0m\u001b[0mkwargs\u001b[0m\u001b[0;34m)\u001b[0m\u001b[0;34m:\u001b[0m\u001b[0;34m\u001b[0m\u001b[0;34m\u001b[0m\u001b[0m\n\u001b[1;32m     65\u001b[0m     \u001b[0;32mif\u001b[0m \u001b[0;32mnot\u001b[0m \u001b[0mself\u001b[0m\u001b[0;34m.\u001b[0m\u001b[0m_in_multi_worker_mode\u001b[0m\u001b[0;34m(\u001b[0m\u001b[0;34m)\u001b[0m\u001b[0;34m:\u001b[0m  \u001b[0;31m# pylint: disable=protected-access\u001b[0m\u001b[0;34m\u001b[0m\u001b[0;34m\u001b[0m\u001b[0m\n\u001b[0;32m---> 66\u001b[0;31m       \u001b[0;32mreturn\u001b[0m \u001b[0mmethod\u001b[0m\u001b[0;34m(\u001b[0m\u001b[0mself\u001b[0m\u001b[0;34m,\u001b[0m \u001b[0;34m*\u001b[0m\u001b[0margs\u001b[0m\u001b[0;34m,\u001b[0m \u001b[0;34m**\u001b[0m\u001b[0mkwargs\u001b[0m\u001b[0;34m)\u001b[0m\u001b[0;34m\u001b[0m\u001b[0;34m\u001b[0m\u001b[0m\n\u001b[0m\u001b[1;32m     67\u001b[0m \u001b[0;34m\u001b[0m\u001b[0m\n\u001b[1;32m     68\u001b[0m     \u001b[0;31m# Running inside `run_distribute_coordinator` already.\u001b[0m\u001b[0;34m\u001b[0m\u001b[0;34m\u001b[0m\u001b[0;34m\u001b[0m\u001b[0m\n",
            "\u001b[0;32m/usr/local/lib/python3.6/dist-packages/tensorflow/python/keras/engine/training.py\u001b[0m in \u001b[0;36mfit\u001b[0;34m(self, x, y, batch_size, epochs, verbose, callbacks, validation_split, validation_data, shuffle, class_weight, sample_weight, initial_epoch, steps_per_epoch, validation_steps, validation_batch_size, validation_freq, max_queue_size, workers, use_multiprocessing, **kwargs)\u001b[0m\n\u001b[1;32m    856\u001b[0m                 \u001b[0mcontext\u001b[0m\u001b[0;34m.\u001b[0m\u001b[0masync_wait\u001b[0m\u001b[0;34m(\u001b[0m\u001b[0;34m)\u001b[0m\u001b[0;34m\u001b[0m\u001b[0;34m\u001b[0m\u001b[0m\n\u001b[1;32m    857\u001b[0m               \u001b[0mlogs\u001b[0m \u001b[0;34m=\u001b[0m \u001b[0mtmp_logs\u001b[0m  \u001b[0;31m# No error, now safe to assign to logs.\u001b[0m\u001b[0;34m\u001b[0m\u001b[0;34m\u001b[0m\u001b[0m\n\u001b[0;32m--> 858\u001b[0;31m               \u001b[0mcallbacks\u001b[0m\u001b[0;34m.\u001b[0m\u001b[0mon_train_batch_end\u001b[0m\u001b[0;34m(\u001b[0m\u001b[0mstep\u001b[0m\u001b[0;34m,\u001b[0m \u001b[0mlogs\u001b[0m\u001b[0;34m)\u001b[0m\u001b[0;34m\u001b[0m\u001b[0;34m\u001b[0m\u001b[0m\n\u001b[0m\u001b[1;32m    859\u001b[0m         \u001b[0mepoch_logs\u001b[0m \u001b[0;34m=\u001b[0m \u001b[0mcopy\u001b[0m\u001b[0;34m.\u001b[0m\u001b[0mcopy\u001b[0m\u001b[0;34m(\u001b[0m\u001b[0mlogs\u001b[0m\u001b[0;34m)\u001b[0m\u001b[0;34m\u001b[0m\u001b[0;34m\u001b[0m\u001b[0m\n\u001b[1;32m    860\u001b[0m \u001b[0;34m\u001b[0m\u001b[0m\n",
            "\u001b[0;32m/usr/local/lib/python3.6/dist-packages/tensorflow/python/keras/callbacks.py\u001b[0m in \u001b[0;36mon_train_batch_end\u001b[0;34m(self, batch, logs)\u001b[0m\n\u001b[1;32m    387\u001b[0m     \"\"\"\n\u001b[1;32m    388\u001b[0m     \u001b[0;32mif\u001b[0m \u001b[0mself\u001b[0m\u001b[0;34m.\u001b[0m\u001b[0m_should_call_train_batch_hooks\u001b[0m\u001b[0;34m:\u001b[0m\u001b[0;34m\u001b[0m\u001b[0;34m\u001b[0m\u001b[0m\n\u001b[0;32m--> 389\u001b[0;31m       \u001b[0mlogs\u001b[0m \u001b[0;34m=\u001b[0m \u001b[0mself\u001b[0m\u001b[0;34m.\u001b[0m\u001b[0m_process_logs\u001b[0m\u001b[0;34m(\u001b[0m\u001b[0mlogs\u001b[0m\u001b[0;34m)\u001b[0m\u001b[0;34m\u001b[0m\u001b[0;34m\u001b[0m\u001b[0m\n\u001b[0m\u001b[1;32m    390\u001b[0m       \u001b[0mself\u001b[0m\u001b[0;34m.\u001b[0m\u001b[0m_call_batch_hook\u001b[0m\u001b[0;34m(\u001b[0m\u001b[0mModeKeys\u001b[0m\u001b[0;34m.\u001b[0m\u001b[0mTRAIN\u001b[0m\u001b[0;34m,\u001b[0m \u001b[0;34m'end'\u001b[0m\u001b[0;34m,\u001b[0m \u001b[0mbatch\u001b[0m\u001b[0;34m,\u001b[0m \u001b[0mlogs\u001b[0m\u001b[0;34m=\u001b[0m\u001b[0mlogs\u001b[0m\u001b[0;34m)\u001b[0m\u001b[0;34m\u001b[0m\u001b[0;34m\u001b[0m\u001b[0m\n\u001b[1;32m    391\u001b[0m \u001b[0;34m\u001b[0m\u001b[0m\n",
            "\u001b[0;32m/usr/local/lib/python3.6/dist-packages/tensorflow/python/keras/callbacks.py\u001b[0m in \u001b[0;36m_process_logs\u001b[0;34m(self, logs)\u001b[0m\n\u001b[1;32m    263\u001b[0m     \u001b[0;34m\"\"\"Turns tensors into numpy arrays or Python scalars.\"\"\"\u001b[0m\u001b[0;34m\u001b[0m\u001b[0;34m\u001b[0m\u001b[0m\n\u001b[1;32m    264\u001b[0m     \u001b[0;32mif\u001b[0m \u001b[0mlogs\u001b[0m\u001b[0;34m:\u001b[0m\u001b[0;34m\u001b[0m\u001b[0;34m\u001b[0m\u001b[0m\n\u001b[0;32m--> 265\u001b[0;31m       \u001b[0;32mreturn\u001b[0m \u001b[0mtf_utils\u001b[0m\u001b[0;34m.\u001b[0m\u001b[0mto_numpy_or_python_type\u001b[0m\u001b[0;34m(\u001b[0m\u001b[0mlogs\u001b[0m\u001b[0;34m)\u001b[0m\u001b[0;34m\u001b[0m\u001b[0;34m\u001b[0m\u001b[0m\n\u001b[0m\u001b[1;32m    266\u001b[0m     \u001b[0;32mreturn\u001b[0m \u001b[0;34m{\u001b[0m\u001b[0;34m}\u001b[0m\u001b[0;34m\u001b[0m\u001b[0;34m\u001b[0m\u001b[0m\n\u001b[1;32m    267\u001b[0m \u001b[0;34m\u001b[0m\u001b[0m\n",
            "\u001b[0;32m/usr/local/lib/python3.6/dist-packages/tensorflow/python/keras/utils/tf_utils.py\u001b[0m in \u001b[0;36mto_numpy_or_python_type\u001b[0;34m(tensors)\u001b[0m\n\u001b[1;32m    521\u001b[0m     \u001b[0;32mreturn\u001b[0m \u001b[0mt\u001b[0m  \u001b[0;31m# Don't turn ragged or sparse tensors to NumPy.\u001b[0m\u001b[0;34m\u001b[0m\u001b[0;34m\u001b[0m\u001b[0m\n\u001b[1;32m    522\u001b[0m \u001b[0;34m\u001b[0m\u001b[0m\n\u001b[0;32m--> 523\u001b[0;31m   \u001b[0;32mreturn\u001b[0m \u001b[0mnest\u001b[0m\u001b[0;34m.\u001b[0m\u001b[0mmap_structure\u001b[0m\u001b[0;34m(\u001b[0m\u001b[0m_to_single_numpy_or_python_type\u001b[0m\u001b[0;34m,\u001b[0m \u001b[0mtensors\u001b[0m\u001b[0;34m)\u001b[0m\u001b[0;34m\u001b[0m\u001b[0;34m\u001b[0m\u001b[0m\n\u001b[0m\u001b[1;32m    524\u001b[0m \u001b[0;34m\u001b[0m\u001b[0m\n",
            "\u001b[0;32m/usr/local/lib/python3.6/dist-packages/tensorflow/python/util/nest.py\u001b[0m in \u001b[0;36mmap_structure\u001b[0;34m(func, *structure, **kwargs)\u001b[0m\n\u001b[1;32m    615\u001b[0m \u001b[0;34m\u001b[0m\u001b[0m\n\u001b[1;32m    616\u001b[0m   return pack_sequence_as(\n\u001b[0;32m--> 617\u001b[0;31m       \u001b[0mstructure\u001b[0m\u001b[0;34m[\u001b[0m\u001b[0;36m0\u001b[0m\u001b[0;34m]\u001b[0m\u001b[0;34m,\u001b[0m \u001b[0;34m[\u001b[0m\u001b[0mfunc\u001b[0m\u001b[0;34m(\u001b[0m\u001b[0;34m*\u001b[0m\u001b[0mx\u001b[0m\u001b[0;34m)\u001b[0m \u001b[0;32mfor\u001b[0m \u001b[0mx\u001b[0m \u001b[0;32min\u001b[0m \u001b[0mentries\u001b[0m\u001b[0;34m]\u001b[0m\u001b[0;34m,\u001b[0m\u001b[0;34m\u001b[0m\u001b[0;34m\u001b[0m\u001b[0m\n\u001b[0m\u001b[1;32m    618\u001b[0m       expand_composites=expand_composites)\n\u001b[1;32m    619\u001b[0m \u001b[0;34m\u001b[0m\u001b[0m\n",
            "\u001b[0;32m/usr/local/lib/python3.6/dist-packages/tensorflow/python/util/nest.py\u001b[0m in \u001b[0;36m<listcomp>\u001b[0;34m(.0)\u001b[0m\n\u001b[1;32m    615\u001b[0m \u001b[0;34m\u001b[0m\u001b[0m\n\u001b[1;32m    616\u001b[0m   return pack_sequence_as(\n\u001b[0;32m--> 617\u001b[0;31m       \u001b[0mstructure\u001b[0m\u001b[0;34m[\u001b[0m\u001b[0;36m0\u001b[0m\u001b[0;34m]\u001b[0m\u001b[0;34m,\u001b[0m \u001b[0;34m[\u001b[0m\u001b[0mfunc\u001b[0m\u001b[0;34m(\u001b[0m\u001b[0;34m*\u001b[0m\u001b[0mx\u001b[0m\u001b[0;34m)\u001b[0m \u001b[0;32mfor\u001b[0m \u001b[0mx\u001b[0m \u001b[0;32min\u001b[0m \u001b[0mentries\u001b[0m\u001b[0;34m]\u001b[0m\u001b[0;34m,\u001b[0m\u001b[0;34m\u001b[0m\u001b[0;34m\u001b[0m\u001b[0m\n\u001b[0m\u001b[1;32m    618\u001b[0m       expand_composites=expand_composites)\n\u001b[1;32m    619\u001b[0m \u001b[0;34m\u001b[0m\u001b[0m\n",
            "\u001b[0;32m/usr/local/lib/python3.6/dist-packages/tensorflow/python/keras/utils/tf_utils.py\u001b[0m in \u001b[0;36m_to_single_numpy_or_python_type\u001b[0;34m(t)\u001b[0m\n\u001b[1;32m    517\u001b[0m   \u001b[0;32mdef\u001b[0m \u001b[0m_to_single_numpy_or_python_type\u001b[0m\u001b[0;34m(\u001b[0m\u001b[0mt\u001b[0m\u001b[0;34m)\u001b[0m\u001b[0;34m:\u001b[0m\u001b[0;34m\u001b[0m\u001b[0;34m\u001b[0m\u001b[0m\n\u001b[1;32m    518\u001b[0m     \u001b[0;32mif\u001b[0m \u001b[0misinstance\u001b[0m\u001b[0;34m(\u001b[0m\u001b[0mt\u001b[0m\u001b[0;34m,\u001b[0m \u001b[0mops\u001b[0m\u001b[0;34m.\u001b[0m\u001b[0mTensor\u001b[0m\u001b[0;34m)\u001b[0m\u001b[0;34m:\u001b[0m\u001b[0;34m\u001b[0m\u001b[0;34m\u001b[0m\u001b[0m\n\u001b[0;32m--> 519\u001b[0;31m       \u001b[0mx\u001b[0m \u001b[0;34m=\u001b[0m \u001b[0mt\u001b[0m\u001b[0;34m.\u001b[0m\u001b[0mnumpy\u001b[0m\u001b[0;34m(\u001b[0m\u001b[0;34m)\u001b[0m\u001b[0;34m\u001b[0m\u001b[0;34m\u001b[0m\u001b[0m\n\u001b[0m\u001b[1;32m    520\u001b[0m       \u001b[0;32mreturn\u001b[0m \u001b[0mx\u001b[0m\u001b[0;34m.\u001b[0m\u001b[0mitem\u001b[0m\u001b[0;34m(\u001b[0m\u001b[0;34m)\u001b[0m \u001b[0;32mif\u001b[0m \u001b[0mnp\u001b[0m\u001b[0;34m.\u001b[0m\u001b[0mndim\u001b[0m\u001b[0;34m(\u001b[0m\u001b[0mx\u001b[0m\u001b[0;34m)\u001b[0m \u001b[0;34m==\u001b[0m \u001b[0;36m0\u001b[0m \u001b[0;32melse\u001b[0m \u001b[0mx\u001b[0m\u001b[0;34m\u001b[0m\u001b[0;34m\u001b[0m\u001b[0m\n\u001b[1;32m    521\u001b[0m     \u001b[0;32mreturn\u001b[0m \u001b[0mt\u001b[0m  \u001b[0;31m# Don't turn ragged or sparse tensors to NumPy.\u001b[0m\u001b[0;34m\u001b[0m\u001b[0;34m\u001b[0m\u001b[0m\n",
            "\u001b[0;32m/usr/local/lib/python3.6/dist-packages/tensorflow/python/framework/ops.py\u001b[0m in \u001b[0;36mnumpy\u001b[0;34m(self)\u001b[0m\n\u001b[1;32m    959\u001b[0m     \"\"\"\n\u001b[1;32m    960\u001b[0m     \u001b[0;31m# TODO(slebedev): Consider avoiding a copy for non-CPU or remote tensors.\u001b[0m\u001b[0;34m\u001b[0m\u001b[0;34m\u001b[0m\u001b[0;34m\u001b[0m\u001b[0m\n\u001b[0;32m--> 961\u001b[0;31m     \u001b[0mmaybe_arr\u001b[0m \u001b[0;34m=\u001b[0m \u001b[0mself\u001b[0m\u001b[0;34m.\u001b[0m\u001b[0m_numpy\u001b[0m\u001b[0;34m(\u001b[0m\u001b[0;34m)\u001b[0m  \u001b[0;31m# pylint: disable=protected-access\u001b[0m\u001b[0;34m\u001b[0m\u001b[0;34m\u001b[0m\u001b[0m\n\u001b[0m\u001b[1;32m    962\u001b[0m     \u001b[0;32mreturn\u001b[0m \u001b[0mmaybe_arr\u001b[0m\u001b[0;34m.\u001b[0m\u001b[0mcopy\u001b[0m\u001b[0;34m(\u001b[0m\u001b[0;34m)\u001b[0m \u001b[0;32mif\u001b[0m \u001b[0misinstance\u001b[0m\u001b[0;34m(\u001b[0m\u001b[0mmaybe_arr\u001b[0m\u001b[0;34m,\u001b[0m \u001b[0mnp\u001b[0m\u001b[0;34m.\u001b[0m\u001b[0mndarray\u001b[0m\u001b[0;34m)\u001b[0m \u001b[0;32melse\u001b[0m \u001b[0mmaybe_arr\u001b[0m\u001b[0;34m\u001b[0m\u001b[0;34m\u001b[0m\u001b[0m\n\u001b[1;32m    963\u001b[0m \u001b[0;34m\u001b[0m\u001b[0m\n",
            "\u001b[0;32m/usr/local/lib/python3.6/dist-packages/tensorflow/python/framework/ops.py\u001b[0m in \u001b[0;36m_numpy\u001b[0;34m(self)\u001b[0m\n\u001b[1;32m    925\u001b[0m     \u001b[0;31m# pylint: disable=protected-access\u001b[0m\u001b[0;34m\u001b[0m\u001b[0;34m\u001b[0m\u001b[0;34m\u001b[0m\u001b[0m\n\u001b[1;32m    926\u001b[0m     \u001b[0;32mtry\u001b[0m\u001b[0;34m:\u001b[0m\u001b[0;34m\u001b[0m\u001b[0;34m\u001b[0m\u001b[0m\n\u001b[0;32m--> 927\u001b[0;31m       \u001b[0;32mreturn\u001b[0m \u001b[0mself\u001b[0m\u001b[0;34m.\u001b[0m\u001b[0m_numpy_internal\u001b[0m\u001b[0;34m(\u001b[0m\u001b[0;34m)\u001b[0m\u001b[0;34m\u001b[0m\u001b[0;34m\u001b[0m\u001b[0m\n\u001b[0m\u001b[1;32m    928\u001b[0m     \u001b[0;32mexcept\u001b[0m \u001b[0mcore\u001b[0m\u001b[0;34m.\u001b[0m\u001b[0m_NotOkStatusException\u001b[0m \u001b[0;32mas\u001b[0m \u001b[0me\u001b[0m\u001b[0;34m:\u001b[0m\u001b[0;34m\u001b[0m\u001b[0;34m\u001b[0m\u001b[0m\n\u001b[1;32m    929\u001b[0m       \u001b[0msix\u001b[0m\u001b[0;34m.\u001b[0m\u001b[0mraise_from\u001b[0m\u001b[0;34m(\u001b[0m\u001b[0mcore\u001b[0m\u001b[0;34m.\u001b[0m\u001b[0m_status_to_exception\u001b[0m\u001b[0;34m(\u001b[0m\u001b[0me\u001b[0m\u001b[0;34m.\u001b[0m\u001b[0mcode\u001b[0m\u001b[0;34m,\u001b[0m \u001b[0me\u001b[0m\u001b[0;34m.\u001b[0m\u001b[0mmessage\u001b[0m\u001b[0;34m)\u001b[0m\u001b[0;34m,\u001b[0m \u001b[0;32mNone\u001b[0m\u001b[0;34m)\u001b[0m\u001b[0;34m\u001b[0m\u001b[0;34m\u001b[0m\u001b[0m\n",
            "\u001b[0;31mKeyboardInterrupt\u001b[0m: "
          ]
        }
      ]
    },
    {
      "cell_type": "code",
      "metadata": {
        "id": "-ZxrjmoTMkAV",
        "colab_type": "code",
        "colab": {}
      },
      "source": [
        "prediction = model.predict_classes(temp_test_data)\n",
        "prediction"
      ],
      "execution_count": 0,
      "outputs": []
    }
  ]
}